{
 "cells": [
  {
   "cell_type": "code",
   "execution_count": 1,
   "metadata": {},
   "outputs": [],
   "source": [
    "# For each sample, exclude cells and bins with too much aneuploidy "
   ]
  },
  {
   "cell_type": "code",
   "execution_count": 2,
   "metadata": {},
   "outputs": [],
   "source": [
    "import pandas as pd,numpy as np\n",
    "from glob import glob\n",
    "import matplotlib.pyplot as plt\n",
    "import seaborn as sns\n",
    "from tqdm import tqdm\n",
    "import os"
   ]
  },
  {
   "cell_type": "code",
   "execution_count": 7,
   "metadata": {},
   "outputs": [],
   "source": [
    "samples=glob('*/status.xml')\n",
    "samples=[i.split('/')[0] for i in samples]"
   ]
  },
  {
   "cell_type": "code",
   "execution_count": 8,
   "metadata": {},
   "outputs": [],
   "source": [
    "def get_badbins(sample,\n",
    "                max_frac_aneuploid_per_cell=0.3,\n",
    "                max_frac_aneuploid_per_bin=[0.2,.85],\n",
    "               ):\n",
    "    # Determine bad bins and bad cells for a sample\n",
    "    #\n",
    "    \n",
    "    copies = pd.read_csv(f'{sample}/SegCopy.gz',sep='\\t',index_col=['CHR','START','END']).T\n",
    "    orig_shape=copies.shape\n",
    "\n",
    "    autosomes = [f'chr{i+1}' for i in np.arange(22)]\n",
    "    # Global normalization\n",
    "    copies = copies\n",
    "    \n",
    "    badcells = (copies[autosomes]==2).mean(axis=1)<(1-max_frac_aneuploid_per_cell) # Exclude cells with >20% aneuploid bins\n",
    "    copies = copies.loc[~badcells,:]\n",
    "\n",
    "    q=[max_frac_aneuploid_per_bin[0], 0.5, max_frac_aneuploid_per_bin[1]]\n",
    "    copies_quantiles = copies.quantile(q=q)\n",
    "    copies_quantiles = copies_quantiles.T.reset_index()\n",
    "\n",
    "    # Correct male chrX. (I checked that this correctly estimates the sex for our CZI samples)\n",
    "    if copies_quantiles.loc[copies_quantiles['CHR']=='chrX',0.5].median()==1:\n",
    "        sex='m'\n",
    "        copies['chrX']=copies['chrX']*2\n",
    "        copies_quantiles = copies.quantile(q=q)\n",
    "        copies_quantiles = copies_quantiles.T.reset_index()\n",
    "#         copies_quantiles.loc[copies_quantiles['CHR']=='chrX',q] *= 2\n",
    "    else:\n",
    "        sex='f'\n",
    "\n",
    "    badbins = ~((copies_quantiles[q[0]]>=2)&(copies_quantiles[q[-1]]<=2))\n",
    "\n",
    "    # Keep only bins with the canonical binsize\n",
    "    binsize=int(1e6)\n",
    "    badbins += (copies_quantiles['END']-copies_quantiles['START']!=binsize-1)\n",
    "\n",
    "    copies_quantiles.set_index(['CHR','START','END'],inplace=True)\n",
    "    copiesu = copies.T.loc[~badbins.values]\n",
    "\n",
    "    copiesu.to_csv(f'{sample}/SegCopy.goodbins.goodcells.tsv.gz',sep='\\t')\n",
    "#     print(f'{sample}\\tKeeping {copiesu.shape[0]}/{orig_shape[1]} cells, {copiesu.shape[1]}/{orig_shape[0]} bins')\n",
    "    \n",
    "    binstats = pd.Series({'ncells raw':orig_shape[0],'nbins raw':orig_shape[1],\n",
    "                          'ncells filt':copiesu.shape[1],'nbins filt':copiesu.shape[0],\n",
    "                         }, name=sample)\n",
    "#     copiesu = copies.T.iloc[~badbins,:]\n",
    "#     copiesu = copies.T.loc[:,~copies_quantiles['badbins']]\n",
    "    return binstats#,copies_quantiles"
   ]
  },
  {
   "cell_type": "code",
   "execution_count": 6,
   "metadata": {},
   "outputs": [
    {
     "ename": "ValueError",
     "evalue": "too many values to unpack (expected 2)",
     "output_type": "error",
     "traceback": [
      "\u001b[0;31m---------------------------------------------------------------------------\u001b[0m",
      "\u001b[0;31mValueError\u001b[0m                                Traceback (most recent call last)",
      "\u001b[0;32m<ipython-input-6-230ff7a1163a>\u001b[0m in \u001b[0;36m<module>\u001b[0;34m\u001b[0m\n\u001b[1;32m      1\u001b[0m \u001b[0msample\u001b[0m\u001b[0;34m=\u001b[0m\u001b[0;34m'test'\u001b[0m\u001b[0;34m\u001b[0m\u001b[0;34m\u001b[0m\u001b[0m\n\u001b[0;32m----> 2\u001b[0;31m \u001b[0mbinstats\u001b[0m\u001b[0;34m,\u001b[0m\u001b[0mcopies_quantiles\u001b[0m\u001b[0;34m=\u001b[0m\u001b[0mget_badbins\u001b[0m\u001b[0;34m(\u001b[0m\u001b[0msample\u001b[0m\u001b[0;34m,\u001b[0m \u001b[0mmax_frac_aneuploid_per_bin\u001b[0m\u001b[0;34m=\u001b[0m\u001b[0;34m[\u001b[0m\u001b[0;36m.15\u001b[0m\u001b[0;34m,\u001b[0m\u001b[0;36m.85\u001b[0m\u001b[0;34m]\u001b[0m\u001b[0;34m)\u001b[0m\u001b[0;34m\u001b[0m\u001b[0;34m\u001b[0m\u001b[0m\n\u001b[0m\u001b[1;32m      3\u001b[0m \u001b[0;34m\u001b[0m\u001b[0m\n\u001b[1;32m      4\u001b[0m \u001b[0mplt\u001b[0m\u001b[0;34m.\u001b[0m\u001b[0mplot\u001b[0m\u001b[0;34m(\u001b[0m\u001b[0mcopies_quantiles\u001b[0m\u001b[0;34m.\u001b[0m\u001b[0mloc\u001b[0m\u001b[0;34m[\u001b[0m\u001b[0;34m'chrX'\u001b[0m\u001b[0;34m]\u001b[0m\u001b[0;34m[\u001b[0m\u001b[0;36m0.85\u001b[0m\u001b[0;34m]\u001b[0m\u001b[0;34m.\u001b[0m\u001b[0mvalues\u001b[0m\u001b[0;34m)\u001b[0m\u001b[0;34m\u001b[0m\u001b[0;34m\u001b[0m\u001b[0m\n",
      "\u001b[0;31mValueError\u001b[0m: too many values to unpack (expected 2)"
     ]
    }
   ],
   "source": [
    "sample='test'\n",
    "binstats,copies_quantiles=get_badbins(sample, max_frac_aneuploid_per_bin=[.15,.85])\n",
    "\n",
    "plt.plot(copies_quantiles.loc['chrX'][0.85].values)"
   ]
  },
  {
   "cell_type": "code",
   "execution_count": 9,
   "metadata": {},
   "outputs": [
    {
     "name": "stderr",
     "output_type": "stream",
     "text": [
      "100%|██████████| 6/6 [00:03<00:00,  1.92it/s]\n"
     ]
    }
   ],
   "source": [
    "from multiprocessing import Pool\n",
    "\n",
    "with Pool() as p:\n",
    "    binstats = list(tqdm(p.imap(get_badbins, samples),total=len(samples)))"
   ]
  },
  {
   "cell_type": "code",
   "execution_count": 10,
   "metadata": {},
   "outputs": [],
   "source": [
    "binstats_df = pd.concat(binstats,axis=1).T"
   ]
  },
  {
   "cell_type": "code",
   "execution_count": 11,
   "metadata": {},
   "outputs": [
    {
     "data": {
      "text/html": [
       "<div>\n",
       "<style scoped>\n",
       "    .dataframe tbody tr th:only-of-type {\n",
       "        vertical-align: middle;\n",
       "    }\n",
       "\n",
       "    .dataframe tbody tr th {\n",
       "        vertical-align: top;\n",
       "    }\n",
       "\n",
       "    .dataframe thead th {\n",
       "        text-align: right;\n",
       "    }\n",
       "</style>\n",
       "<table border=\"1\" class=\"dataframe\">\n",
       "  <thead>\n",
       "    <tr style=\"text-align: right;\">\n",
       "      <th></th>\n",
       "      <th>ncells raw</th>\n",
       "      <th>nbins raw</th>\n",
       "      <th>ncells filt</th>\n",
       "      <th>nbins filt</th>\n",
       "    </tr>\n",
       "  </thead>\n",
       "  <tbody>\n",
       "    <tr>\n",
       "      <th>MB_EA</th>\n",
       "      <td>2347</td>\n",
       "      <td>3032</td>\n",
       "      <td>2302</td>\n",
       "      <td>2932</td>\n",
       "    </tr>\n",
       "    <tr>\n",
       "      <th>Luo2017_human</th>\n",
       "      <td>2888</td>\n",
       "      <td>3032</td>\n",
       "      <td>2804</td>\n",
       "      <td>2902</td>\n",
       "    </tr>\n",
       "    <tr>\n",
       "      <th>MB_v1</th>\n",
       "      <td>2784</td>\n",
       "      <td>3032</td>\n",
       "      <td>2705</td>\n",
       "      <td>2962</td>\n",
       "    </tr>\n",
       "    <tr>\n",
       "      <th>MB_EB</th>\n",
       "      <td>1304</td>\n",
       "      <td>3032</td>\n",
       "      <td>1235</td>\n",
       "      <td>2967</td>\n",
       "    </tr>\n",
       "    <tr>\n",
       "      <th>mCTN-2</th>\n",
       "      <td>2927</td>\n",
       "      <td>3032</td>\n",
       "      <td>2759</td>\n",
       "      <td>2966</td>\n",
       "    </tr>\n",
       "    <tr>\n",
       "      <th>mCTN-1</th>\n",
       "      <td>1446</td>\n",
       "      <td>3032</td>\n",
       "      <td>1369</td>\n",
       "      <td>2953</td>\n",
       "    </tr>\n",
       "  </tbody>\n",
       "</table>\n",
       "</div>"
      ],
      "text/plain": [
       "               ncells raw  nbins raw  ncells filt  nbins filt\n",
       "MB_EA                2347       3032         2302        2932\n",
       "Luo2017_human        2888       3032         2804        2902\n",
       "MB_v1                2784       3032         2705        2962\n",
       "MB_EB                1304       3032         1235        2967\n",
       "mCTN-2               2927       3032         2759        2966\n",
       "mCTN-1               1446       3032         1369        2953"
      ]
     },
     "execution_count": 11,
     "metadata": {},
     "output_type": "execute_result"
    }
   ],
   "source": [
    "binstats_df"
   ]
  },
  {
   "cell_type": "code",
   "execution_count": 12,
   "metadata": {},
   "outputs": [],
   "source": [
    "binstats_df['frac goodcells'] = binstats_df['ncells filt']/binstats_df['ncells raw']\n",
    "binstats_df['frac goodbins'] = binstats_df['nbins filt']/binstats_df['nbins raw']\n",
    "# binstats_df['sex'] = binstats_df.index.str.contains('f')\n",
    "# binstats_df['sex'] = binstats_df['sex'].map({True:'f', False:'m'})"
   ]
  },
  {
   "cell_type": "code",
   "execution_count": 14,
   "metadata": {},
   "outputs": [
    {
     "data": {
      "text/html": [
       "<div>\n",
       "<style scoped>\n",
       "    .dataframe tbody tr th:only-of-type {\n",
       "        vertical-align: middle;\n",
       "    }\n",
       "\n",
       "    .dataframe tbody tr th {\n",
       "        vertical-align: top;\n",
       "    }\n",
       "\n",
       "    .dataframe thead th {\n",
       "        text-align: right;\n",
       "    }\n",
       "</style>\n",
       "<table border=\"1\" class=\"dataframe\">\n",
       "  <thead>\n",
       "    <tr style=\"text-align: right;\">\n",
       "      <th></th>\n",
       "      <th>ncells raw</th>\n",
       "      <th>nbins raw</th>\n",
       "      <th>ncells filt</th>\n",
       "      <th>nbins filt</th>\n",
       "      <th>frac goodcells</th>\n",
       "      <th>frac goodbins</th>\n",
       "    </tr>\n",
       "  </thead>\n",
       "  <tbody>\n",
       "    <tr>\n",
       "      <th>MB_EA</th>\n",
       "      <td>2347</td>\n",
       "      <td>3032</td>\n",
       "      <td>2302</td>\n",
       "      <td>2932</td>\n",
       "      <td>0.980827</td>\n",
       "      <td>0.967018</td>\n",
       "    </tr>\n",
       "    <tr>\n",
       "      <th>Luo2017_human</th>\n",
       "      <td>2888</td>\n",
       "      <td>3032</td>\n",
       "      <td>2804</td>\n",
       "      <td>2902</td>\n",
       "      <td>0.970914</td>\n",
       "      <td>0.957124</td>\n",
       "    </tr>\n",
       "    <tr>\n",
       "      <th>MB_v1</th>\n",
       "      <td>2784</td>\n",
       "      <td>3032</td>\n",
       "      <td>2705</td>\n",
       "      <td>2962</td>\n",
       "      <td>0.971624</td>\n",
       "      <td>0.976913</td>\n",
       "    </tr>\n",
       "    <tr>\n",
       "      <th>MB_EB</th>\n",
       "      <td>1304</td>\n",
       "      <td>3032</td>\n",
       "      <td>1235</td>\n",
       "      <td>2967</td>\n",
       "      <td>0.947086</td>\n",
       "      <td>0.978562</td>\n",
       "    </tr>\n",
       "    <tr>\n",
       "      <th>mCTN-2</th>\n",
       "      <td>2927</td>\n",
       "      <td>3032</td>\n",
       "      <td>2759</td>\n",
       "      <td>2966</td>\n",
       "      <td>0.942603</td>\n",
       "      <td>0.978232</td>\n",
       "    </tr>\n",
       "    <tr>\n",
       "      <th>mCTN-1</th>\n",
       "      <td>1446</td>\n",
       "      <td>3032</td>\n",
       "      <td>1369</td>\n",
       "      <td>2953</td>\n",
       "      <td>0.946750</td>\n",
       "      <td>0.973945</td>\n",
       "    </tr>\n",
       "  </tbody>\n",
       "</table>\n",
       "</div>"
      ],
      "text/plain": [
       "               ncells raw  nbins raw  ncells filt  nbins filt  frac goodcells  \\\n",
       "MB_EA                2347       3032         2302        2932        0.980827   \n",
       "Luo2017_human        2888       3032         2804        2902        0.970914   \n",
       "MB_v1                2784       3032         2705        2962        0.971624   \n",
       "MB_EB                1304       3032         1235        2967        0.947086   \n",
       "mCTN-2               2927       3032         2759        2966        0.942603   \n",
       "mCTN-1               1446       3032         1369        2953        0.946750   \n",
       "\n",
       "               frac goodbins  \n",
       "MB_EA               0.967018  \n",
       "Luo2017_human       0.957124  \n",
       "MB_v1               0.976913  \n",
       "MB_EB               0.978562  \n",
       "mCTN-2              0.978232  \n",
       "mCTN-1              0.973945  "
      ]
     },
     "execution_count": 14,
     "metadata": {},
     "output_type": "execute_result"
    }
   ],
   "source": [
    "binstats_df"
   ]
  },
  {
   "cell_type": "code",
   "execution_count": 17,
   "metadata": {
    "scrolled": true
   },
   "outputs": [
    {
     "data": {
      "image/png": "[encoded data removed]",
      "text/plain": [
       "<Figure size 432x288 with 1 Axes>"
      ]
     },
     "metadata": {
      "needs_background": "light"
     },
     "output_type": "display_data"
    }
   ],
   "source": [
    "sns.scatterplot(data=binstats_df,\n",
    "                x='frac goodcells',y='frac goodbins',\n",
    "#                 hue='Age category',style='Subject Sex',\n",
    "#                 size='ncells filt',\n",
    "#                 palette='colorblind',\n",
    "               )\n",
    "plt.grid()\n",
    "plt.title('Exclude cells with >30% aneuploidy, bins with aneuploidy in >5% of cells')\n",
    "plt.savefig('Plots/Fraction_goodcells.pdf')"
   ]
  },
  {
   "cell_type": "markdown",
   "metadata": {},
   "source": [
    "# Find bins which should be globally excluded from all samples"
   ]
  },
  {
   "cell_type": "code",
   "execution_count": 18,
   "metadata": {},
   "outputs": [
    {
     "name": "stderr",
     "output_type": "stream",
     "text": [
      "100%|██████████| 6/6 [00:00<00:00, 11.81it/s]\n"
     ]
    }
   ],
   "source": [
    "df=[]\n",
    "for sample in tqdm(samples):\n",
    "    df1=pd.read_csv(f'{sample}/SegCopy.goodbins.goodcells.tsv.gz',sep='\\t',usecols=['CHR','START','END'])\n",
    "    df1['sample']=sample\n",
    "    df.append(df1)\n",
    "    \n",
    "df=df[0].append(df[1:])\n",
    "df=df.sort_values(['CHR','START','END'])"
   ]
  },
  {
   "cell_type": "code",
   "execution_count": 19,
   "metadata": {},
   "outputs": [
    {
     "data": {
      "text/html": [
       "<div>\n",
       "<style scoped>\n",
       "    .dataframe tbody tr th:only-of-type {\n",
       "        vertical-align: middle;\n",
       "    }\n",
       "\n",
       "    .dataframe tbody tr th {\n",
       "        vertical-align: top;\n",
       "    }\n",
       "\n",
       "    .dataframe thead th {\n",
       "        text-align: right;\n",
       "    }\n",
       "</style>\n",
       "<table border=\"1\" class=\"dataframe\">\n",
       "  <thead>\n",
       "    <tr style=\"text-align: right;\">\n",
       "      <th>chrX</th>\n",
       "      <th>False</th>\n",
       "      <th>True</th>\n",
       "    </tr>\n",
       "    <tr>\n",
       "      <th>sample</th>\n",
       "      <th></th>\n",
       "      <th></th>\n",
       "    </tr>\n",
       "  </thead>\n",
       "  <tbody>\n",
       "    <tr>\n",
       "      <th>Luo2017_human</th>\n",
       "      <td>2748</td>\n",
       "      <td>154</td>\n",
       "    </tr>\n",
       "    <tr>\n",
       "      <th>MB_EA</th>\n",
       "      <td>2778</td>\n",
       "      <td>154</td>\n",
       "    </tr>\n",
       "    <tr>\n",
       "      <th>MB_EB</th>\n",
       "      <td>2813</td>\n",
       "      <td>154</td>\n",
       "    </tr>\n",
       "    <tr>\n",
       "      <th>MB_v1</th>\n",
       "      <td>2808</td>\n",
       "      <td>154</td>\n",
       "    </tr>\n",
       "    <tr>\n",
       "      <th>mCTN-1</th>\n",
       "      <td>2799</td>\n",
       "      <td>154</td>\n",
       "    </tr>\n",
       "    <tr>\n",
       "      <th>mCTN-2</th>\n",
       "      <td>2812</td>\n",
       "      <td>154</td>\n",
       "    </tr>\n",
       "  </tbody>\n",
       "</table>\n",
       "</div>"
      ],
      "text/plain": [
       "chrX           False  True\n",
       "sample                    \n",
       "Luo2017_human   2748   154\n",
       "MB_EA           2778   154\n",
       "MB_EB           2813   154\n",
       "MB_v1           2808   154\n",
       "mCTN-1          2799   154\n",
       "mCTN-2          2812   154"
      ]
     },
     "execution_count": 19,
     "metadata": {},
     "output_type": "execute_result"
    }
   ],
   "source": [
    "# Make sure that all samples have representation across chrX and autosomes\n",
    "df['chrX'] = df['CHR']=='chrX'\n",
    "df.groupby(['sample','chrX'])['START'].count().unstack()"
   ]
  },
  {
   "cell_type": "code",
   "execution_count": 20,
   "metadata": {},
   "outputs": [],
   "source": [
    "nsamples=binstats_df.shape[0]\n",
    "all_goodbins = df.groupby(['CHR','START']).count().reset_index().rename(columns={'END':'frac_goodsamples'})\n",
    "all_goodbins['frac_goodsamples'] = all_goodbins['frac_goodsamples']/nsamples"
   ]
  },
  {
   "cell_type": "code",
   "execution_count": 21,
   "metadata": {
    "code_folding": [
     1,
     9
    ]
   },
   "outputs": [],
   "source": [
    "# Make a plot \n",
    "def zebra_stripes(xt,ymax):\n",
    "    # Show gray and white stripes for chromosomes\n",
    "    if (xt.shape[0]%2)==1:\n",
    "        xt=xt[:-1]\n",
    "    plt.bar(xt[::2],ymax,width=xt[1::2]-xt[::2],\n",
    "            align='edge',\n",
    "            color='gray',alpha=0.5)\n",
    "\n",
    "def chromplot(df,y,x='pos',hue=None,ax=None,sample='',cell=''):\n",
    "    # Plot the segnorm and segcopy information for a cell\n",
    "    chroms=list(np.arange(1,23))+['X']\n",
    "    chroms+=['chr%d'%(i+1) for i in range(23)]+['chrX']\n",
    "    chroms=np.array(chroms,dtype=str)\n",
    "    i=0\n",
    "    xt,chromshow=[],[]\n",
    "    dfu=df.copy()\n",
    "    dfu['chrom_pos'] = dfu[x]\n",
    "    for chrom in chroms:\n",
    "        df1=df[df['CHR']==chrom]\n",
    "        if df1.shape[0]>0:\n",
    "            dfu.loc[dfu['CHR']==chrom,'chrom_pos']+=i\n",
    "            i=dfu.loc[dfu['CHR']==chrom,'chrom_pos'].max()\n",
    "            xt.append(i)\n",
    "            chromshow.append(chrom)\n",
    "    ymax=dfu[y].max().max()\n",
    "    zebra_stripes(np.array(xt),ymax)\n",
    "    if type(y) is not list and type(y) is not tuple:\n",
    "        y=[y]\n",
    "    for yi in y:\n",
    "        sns.scatterplot(data=dfu,x='chrom_pos',y=yi,hue=hue,\n",
    "                        s=10,edgecolor=None\n",
    "                       )\n",
    "    plt.xticks(xt,labels=chromshow,rotation=90)\n",
    "    plt.xlim([0,dfu['chrom_pos'].max()])"
   ]
  },
  {
   "cell_type": "code",
   "execution_count": 22,
   "metadata": {},
   "outputs": [
    {
     "data": {
      "text/plain": [
       "False    2883\n",
       "True       99\n",
       "Name: global_badbins, dtype: int64"
      ]
     },
     "execution_count": 22,
     "metadata": {},
     "output_type": "execute_result"
    },
    {
     "data": {
      "image/png": "[encoded data removed]",
      "text/plain": [
       "<Figure size 1440x216 with 1 Axes>"
      ]
     },
     "metadata": {
      "needs_background": "light"
     },
     "output_type": "display_data"
    }
   ],
   "source": [
    "all_goodbins['global_badbins'] = (all_goodbins['frac_goodsamples']<0.99)\n",
    "# all_goodbins['global_badbins'] = (all_goodbins['pos']<=6e6)\n",
    "plt.figure(figsize=(20,3))\n",
    "chromplot(all_goodbins, y='frac_goodsamples',x='START',hue='global_badbins');\n",
    "all_goodbins['global_badbins'].value_counts()"
   ]
  },
  {
   "cell_type": "code",
   "execution_count": 23,
   "metadata": {},
   "outputs": [],
   "source": [
    "# # Check \n",
    "# for f in CEMBA_*; do \n",
    "#  zcat $f/SegCopy.goodbins.goodcells.tsv.gz | cut -f1-3| tail -n+2 >> goodbins.bed\n",
    "# done"
   ]
  },
  {
   "cell_type": "code",
   "execution_count": 24,
   "metadata": {},
   "outputs": [],
   "source": [
    "global_badbins = all_goodbins[all_goodbins['global_badbins']][['CHR','START']]\n",
    "global_badbins['END']= global_badbins['START']+1000000-1\n",
    "# global_badbins[['START','END']]+=-1\n",
    "# global_badbins.to_csv('global_badbins.bed',sep='\\t')\n",
    "\n",
    "global_badbins=global_badbins.set_index(['CHR','START','END'])"
   ]
  },
  {
   "cell_type": "code",
   "execution_count": 25,
   "metadata": {},
   "outputs": [],
   "source": [
    "def remove_badbins(sample,\n",
    "                global_badbins=global_badbins):\n",
    "    # Determine bad bins and bad cells for a sample\n",
    "    #\n",
    "    \n",
    "    copiesu = pd.read_csv(f'{sample}/SegCopy.goodbins.goodcells.tsv.gz',sep='\\t',index_col=['CHR','START','END'])\n",
    "    \n",
    "    _,global_badbinsu=copiesu.align(global_badbins,axis=0,join='inner')\n",
    "    copiesu=copiesu.drop(index=global_badbinsu.index)\n",
    "    copiesu.to_csv(f'{sample}/SegCopy.global_goodbins.goodcells.tsv.gz',sep='\\t')\n",
    "    return \n"
   ]
  },
  {
   "cell_type": "code",
   "execution_count": 26,
   "metadata": {},
   "outputs": [
    {
     "name": "stderr",
     "output_type": "stream",
     "text": [
      "100%|██████████| 6/6 [00:02<00:00,  2.12it/s]\n"
     ]
    }
   ],
   "source": [
    "with Pool() as p:\n",
    "    x=list(tqdm(p.imap(remove_badbins, samples),total=len(samples)))"
   ]
  },
  {
   "cell_type": "code",
   "execution_count": 27,
   "metadata": {},
   "outputs": [],
   "source": [
    "# Make a list of all samples with the original and filtered number of cells\n",
    "allsamples=pd.DataFrame(index=samples)\n",
    "def my_ncells(sample):\n",
    "    allsamples = pd.Series(name=sample)\n",
    "    c1=pd.read_csv(f'{sample}/SegCopy.gz',sep='\\t',index_col=['CHR','START','END'])\n",
    "    allsamples['ncells'] = c1.shape[1]\n",
    "    allsamples['nbins'] = c1.shape[0]\n",
    "    c2=pd.read_csv(f'{sample}/SegCopy.global_goodbins.goodcells.tsv.gz',sep='\\t',index_col=['CHR','START','END'])\n",
    "    allsamples['ncells_filt'] = c2.shape[1]\n",
    "    allsamples['nbins_filt'] = c2.shape[0]\n",
    "    return allsamples\n"
   ]
  },
  {
   "cell_type": "code",
   "execution_count": 28,
   "metadata": {},
   "outputs": [
    {
     "name": "stderr",
     "output_type": "stream",
     "text": [
      "  0%|          | 0/6 [00:00<?, ?it/s]/cndd/emukamel/conda_envs/enhancer_model/lib/python3.7/site-packages/ipykernel_launcher.py:4: DeprecationWarning: The default dtype for empty Series will be 'object' instead of 'float64' in a future version. Specify a dtype explicitly to silence this warning.\n",
      "  after removing the cwd from sys.path.\n",
      "/cndd/emukamel/conda_envs/enhancer_model/lib/python3.7/site-packages/ipykernel_launcher.py:4: DeprecationWarning: The default dtype for empty Series will be 'object' instead of 'float64' in a future version. Specify a dtype explicitly to silence this warning.\n",
      "  after removing the cwd from sys.path.\n",
      "/cndd/emukamel/conda_envs/enhancer_model/lib/python3.7/site-packages/ipykernel_launcher.py:4: DeprecationWarning: The default dtype for empty Series will be 'object' instead of 'float64' in a future version. Specify a dtype explicitly to silence this warning.\n",
      "  after removing the cwd from sys.path.\n",
      "/cndd/emukamel/conda_envs/enhancer_model/lib/python3.7/site-packages/ipykernel_launcher.py:4: DeprecationWarning: The default dtype for empty Series will be 'object' instead of 'float64' in a future version. Specify a dtype explicitly to silence this warning.\n",
      "  after removing the cwd from sys.path.\n",
      "/cndd/emukamel/conda_envs/enhancer_model/lib/python3.7/site-packages/ipykernel_launcher.py:4: DeprecationWarning: The default dtype for empty Series will be 'object' instead of 'float64' in a future version. Specify a dtype explicitly to silence this warning.\n",
      "  after removing the cwd from sys.path.\n",
      "/cndd/emukamel/conda_envs/enhancer_model/lib/python3.7/site-packages/ipykernel_launcher.py:4: DeprecationWarning: The default dtype for empty Series will be 'object' instead of 'float64' in a future version. Specify a dtype explicitly to silence this warning.\n",
      "  after removing the cwd from sys.path.\n",
      "100%|██████████| 6/6 [00:01<00:00,  4.03it/s]\n"
     ]
    }
   ],
   "source": [
    "from multiprocessing import Pool\n",
    "\n",
    "with Pool() as p:\n",
    "    allsamples=list(tqdm(p.imap(my_ncells,samples),total=len(samples)))"
   ]
  },
  {
   "cell_type": "code",
   "execution_count": 29,
   "metadata": {},
   "outputs": [],
   "source": [
    "allsamples = pd.concat(allsamples,axis=1).T"
   ]
  },
  {
   "cell_type": "code",
   "execution_count": 30,
   "metadata": {},
   "outputs": [],
   "source": [
    "allsamples.to_csv('all_samples.filtered.tsv',sep='\\t')"
   ]
  },
  {
   "cell_type": "code",
   "execution_count": 31,
   "metadata": {},
   "outputs": [
    {
     "data": {
      "text/html": [
       "<div>\n",
       "<style scoped>\n",
       "    .dataframe tbody tr th:only-of-type {\n",
       "        vertical-align: middle;\n",
       "    }\n",
       "\n",
       "    .dataframe tbody tr th {\n",
       "        vertical-align: top;\n",
       "    }\n",
       "\n",
       "    .dataframe thead th {\n",
       "        text-align: right;\n",
       "    }\n",
       "</style>\n",
       "<table border=\"1\" class=\"dataframe\">\n",
       "  <thead>\n",
       "    <tr style=\"text-align: right;\">\n",
       "      <th></th>\n",
       "      <th>ncells</th>\n",
       "      <th>nbins</th>\n",
       "      <th>ncells_filt</th>\n",
       "      <th>nbins_filt</th>\n",
       "    </tr>\n",
       "  </thead>\n",
       "  <tbody>\n",
       "    <tr>\n",
       "      <th>MB_EA</th>\n",
       "      <td>2347</td>\n",
       "      <td>3032</td>\n",
       "      <td>2302</td>\n",
       "      <td>2883</td>\n",
       "    </tr>\n",
       "    <tr>\n",
       "      <th>Luo2017_human</th>\n",
       "      <td>2888</td>\n",
       "      <td>3032</td>\n",
       "      <td>2804</td>\n",
       "      <td>2883</td>\n",
       "    </tr>\n",
       "    <tr>\n",
       "      <th>MB_v1</th>\n",
       "      <td>2784</td>\n",
       "      <td>3032</td>\n",
       "      <td>2705</td>\n",
       "      <td>2883</td>\n",
       "    </tr>\n",
       "    <tr>\n",
       "      <th>MB_EB</th>\n",
       "      <td>1304</td>\n",
       "      <td>3032</td>\n",
       "      <td>1235</td>\n",
       "      <td>2883</td>\n",
       "    </tr>\n",
       "    <tr>\n",
       "      <th>mCTN-2</th>\n",
       "      <td>2927</td>\n",
       "      <td>3032</td>\n",
       "      <td>2759</td>\n",
       "      <td>2883</td>\n",
       "    </tr>\n",
       "    <tr>\n",
       "      <th>mCTN-1</th>\n",
       "      <td>1446</td>\n",
       "      <td>3032</td>\n",
       "      <td>1369</td>\n",
       "      <td>2883</td>\n",
       "    </tr>\n",
       "  </tbody>\n",
       "</table>\n",
       "</div>"
      ],
      "text/plain": [
       "               ncells  nbins  ncells_filt  nbins_filt\n",
       "MB_EA            2347   3032         2302        2883\n",
       "Luo2017_human    2888   3032         2804        2883\n",
       "MB_v1            2784   3032         2705        2883\n",
       "MB_EB            1304   3032         1235        2883\n",
       "mCTN-2           2927   3032         2759        2883\n",
       "mCTN-1           1446   3032         1369        2883"
      ]
     },
     "execution_count": 31,
     "metadata": {},
     "output_type": "execute_result"
    }
   ],
   "source": [
    "allsamples"
   ]
  },
  {
   "cell_type": "code",
   "execution_count": null,
   "metadata": {},
   "outputs": [],
   "source": []
  }
 ],
 "metadata": {
  "kernelspec": {
   "display_name": "Python 3",
   "language": "python",
   "name": "python3"
  },
  "language_info": {
   "codemirror_mode": {
    "name": "ipython",
    "version": 3
   },
   "file_extension": ".py",
   "mimetype": "text/x-python",
   "name": "python",
   "nbconvert_exporter": "python",
   "pygments_lexer": "ipython3",
   "version": "3.7.1"
  }
 },
 "nbformat": 4,
 "nbformat_minor": 4
}
