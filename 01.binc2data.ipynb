{
 "cells": [
  {
   "cell_type": "code",
   "execution_count": 3,
   "metadata": {},
   "outputs": [],
   "source": [
    "import numpy as np\n",
    "import pandas as pd\n",
    "import matplotlib.pyplot as plt\n",
    "import glob,re,time,os\n",
    "from multiprocessing import Pool"
   ]
  },
  {
   "cell_type": "code",
   "execution_count": 4,
   "metadata": {},
   "outputs": [
    {
     "data": {
      "text/plain": [
       "['CEMBA_RS2_Tm6H7J8K9L_HY_SC_6H7J8K9L']"
      ]
     },
     "execution_count": 4,
     "metadata": {},
     "output_type": "execute_result"
    }
   ],
   "source": [
    "datadirs = glob.glob('/cndd/emukamel/Aneuploidy/CEMBA/Datasets/CEMBA_RS2_Tm6H7J8K9L_HY_SC_6H7J8K9L*')\n",
    "datasets = [i.split('/')[-1] for i in datadirs]\n",
    "datasets"
   ]
  },
  {
   "cell_type": "code",
   "execution_count": 7,
   "metadata": {},
   "outputs": [],
   "source": [
    "# Create 100kb binc tables for each sample\n",
    "# 1 row for each bin, 1 column per cell\n",
    "def binc2data(sample,binsize=1e5):\n",
    "    t0=time.time()\n",
    "    basedir='/cndd2/emukamel/Aneuploidy/CEMBA/ginkgo_data2'\n",
    "    outfile=basedir+'/%s/binc_%s_%d.tsv.gz' % (sample,sample,binsize)\n",
    "    outfile2=basedir+'/%s/%s.tsv.gz' % (sample,sample)\n",
    "    if os.path.exists(outfile2):\n",
    "        print('Exists, skipping %s' % sample)\n",
    "        return\n",
    "    else:\n",
    "        try:\n",
    "    #         print('Processing %s' % sample)\n",
    "            os.system('touch %s' % outfile)\n",
    "            data = pd.read_csv(outfile, sep='\\t')\n",
    "\n",
    "            ch = data.filter(regex=r'^CH_')\n",
    "            ch.columns = ch.columns.str.replace(r'^CH_','')\n",
    "            ch = data[['chr','bin_end']].join(ch)\n",
    "            ch['bin_end'] = ch['bin_end'].astype(int)\n",
    "            ch.to_csv(outfile2,sep='\\t',index=False)\n",
    "\n",
    "            print('Finished %s; t=%3.3f s' % (sample,time.time()-t0))\n",
    "        except:\n",
    "            print('***** ERROR for %s' % sample)\n",
    "    return \n"
   ]
  },
  {
   "cell_type": "code",
   "execution_count": 46,
   "metadata": {
    "scrolled": false
   },
   "outputs": [
    {
     "name": "stdout",
     "output_type": "stream",
     "text": [
      "***** ERROR for CEMBA_RS2_Wf3C_MOp_MY_3C\n",
      "***** ERROR for CEMBA_RS2_Wm4A_ACA_MY_4A\n",
      "***** ERROR for CEMBA_RS2_Wf3D_AI_MY_3D***** ERROR for CEMBA_RS2_Wf4A_ACA_MY_4A\n",
      "\n",
      "***** ERROR for CEMBA_RS2_Wm5A_ACA_MY_5A***** ERROR for CEMBA_RS2_Wf9A_RSP_MY_9A***** ERROR for CEMBA_RS2_Wm10C_AUD_MY_10C\n",
      "\n",
      "\n",
      "***** ERROR for CEMBA_RS2_Wm10A_RSP_MY_10A***** ERROR for CEMBA_RS2_Wm3D_AI_MY_3D\n",
      "\n",
      "***** ERROR for CEMBA_RS2_Wf10A_RSP_MY_10A\n",
      "***** ERROR for CEMBA_RS2_Wf9D_AUD_MY_9D***** ERROR for CEMBA_RS2_Wf10C_AUD_MY_10C\n",
      "\n",
      "***** ERROR for CEMBA_RS2_Wf9B_PTLp_MY_9B\n",
      "***** ERROR for CEMBA_RS2_Wm9A_RSP_MY_9A\n",
      "***** ERROR for CEMBA_RS2_Wf5A_ACA_MY_5A\n",
      "***** ERROR for CEMBA_RS2_Wm9D_AUD_MY_9D\n",
      "***** ERROR for CEMBA_RS2_Wm9B_PTLp_MY_9B\n"
     ]
    }
   ],
   "source": [
    "with Pool(6) as pool:\n",
    "    pool.map(binc2data,datasets)"
   ]
  },
  {
   "cell_type": "code",
   "execution_count": 9,
   "metadata": {},
   "outputs": [],
   "source": [
    "sample=datasets[0]"
   ]
  },
  {
   "cell_type": "code",
   "execution_count": 11,
   "metadata": {},
   "outputs": [
    {
     "name": "stderr",
     "output_type": "stream",
     "text": [
      "/cndd/emukamel/conda_envs/enhancer_model/lib/python3.7/site-packages/IPython/core/interactiveshell.py:3417: DtypeWarning: Columns (0) have mixed types.Specify dtype option on import or set low_memory=False.\n",
      "  exec(code_obj, self.user_global_ns, self.user_ns)\n"
     ]
    }
   ],
   "source": [
    "t0=time.time()\n",
    "binsize=1e5\n",
    "basedir='/cndd2/emukamel/Aneuploidy/CEMBA/ginkgo_data2'\n",
    "outfile=basedir+'/%s/binc_%s_%d.tsv.gz' % (sample,sample,binsize)\n",
    "outfile2=basedir+'/%s/%s.tsv.gz' % (sample,sample)\n",
    "\n",
    "os.system('touch %s' % outfile)\n",
    "data = pd.read_csv(outfile, sep='\\t')"
   ]
  },
  {
   "cell_type": "code",
   "execution_count": 12,
   "metadata": {},
   "outputs": [
    {
     "name": "stderr",
     "output_type": "stream",
     "text": [
      "/cndd/emukamel/conda_envs/enhancer_model/lib/python3.7/site-packages/ipykernel_launcher.py:2: FutureWarning: The default value of regex will change from True to False in a future version.\n",
      "  \n"
     ]
    }
   ],
   "source": [
    "ch = data.filter(regex=r'^CH_')\n",
    "ch.columns = ch.columns.str.replace(r'^CH_','')\n",
    "ch = data[['chr','bin_end']].join(ch)\n",
    "ch['bin_end'] = ch['bin_end'].astype(int)"
   ]
  },
  {
   "cell_type": "code",
   "execution_count": 15,
   "metadata": {},
   "outputs": [
    {
     "data": {
      "text/plain": [
       "1     1955\n",
       "2     1822\n",
       "X     1711\n",
       "3     1601\n",
       "4     1565\n",
       "5     1519\n",
       "6     1498\n",
       "7     1455\n",
       "10    1307\n",
       "8     1294\n",
       "14    1249\n",
       "11    1221\n",
       "13    1205\n",
       "12    1202\n",
       "9     1188\n",
       "15    1041\n",
       "16     982\n",
       "17     950\n",
       "18     907\n",
       "19     615\n",
       "9       58\n",
       "Name: chr, dtype: int64"
      ]
     },
     "execution_count": 15,
     "metadata": {},
     "output_type": "execute_result"
    }
   ],
   "source": [
    "ch['chr'].value_counts()"
   ]
  },
  {
   "cell_type": "code",
   "execution_count": 16,
   "metadata": {},
   "outputs": [
    {
     "name": "stdout",
     "output_type": "stream",
     "text": [
      "Finished CEMBA_RS2_Tm6H7J8K9L_HY_SC_6H7J8K9L; t=87.101 s\n"
     ]
    }
   ],
   "source": [
    "ch.to_csv(outfile2,sep='\\t',index=False)\n",
    "\n",
    "print('Finished %s; t=%3.3f s' % (sample,time.time()-t0))"
   ]
  }
 ],
 "metadata": {
  "kernelspec": {
   "display_name": "Python 3",
   "language": "python",
   "name": "python3"
  },
  "language_info": {
   "codemirror_mode": {
    "name": "ipython",
    "version": 3
   },
   "file_extension": ".py",
   "mimetype": "text/x-python",
   "name": "python",
   "nbconvert_exporter": "python",
   "pygments_lexer": "ipython3",
   "version": "3.7.1"
  }
 },
 "nbformat": 4,
 "nbformat_minor": 4
}
