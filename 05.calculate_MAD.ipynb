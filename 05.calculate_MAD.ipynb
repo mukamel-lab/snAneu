{
 "cells": [
  {
   "cell_type": "code",
   "execution_count": 15,
   "metadata": {},
   "outputs": [],
   "source": [
    "import numpy as np\n",
    "import pandas as pd\n",
    "import matplotlib.pyplot as plt\n",
    "import glob,re,time,os\n",
    "from multiprocessing import Pool\n",
    "from tqdm import tqdm"
   ]
  },
  {
   "cell_type": "code",
   "execution_count": 21,
   "metadata": {},
   "outputs": [],
   "source": [
    "binsize = 1000000\n",
    "def calc_mad(sample):\n",
    "#     try:\n",
    "        sampledir='./%s' % sample\n",
    "        mad_file = sampledir+'/SegMAD.gz'\n",
    "        segnorm = pd.read_csv(sampledir+'/SegNorm.gz', sep='\\t',index_col=['CHR','START','END'])\n",
    "        segnorm=segnorm.astype(float)\n",
    "        segnorm = segnorm.drop(index=['chrX'],level='CHR')\n",
    "        segnorm = segnorm.loc[segnorm.index.get_level_values('END')-segnorm.index.get_level_values('START')==binsize-1]\n",
    "        segnorm = segnorm.sort_index()\n",
    "        print(f'Keeping {segnorm.shape[0]} bins')\n",
    "\n",
    "        # Keep only the bins with the normative binsize\n",
    "        mad = segnorm.diff(axis=0).abs().median(axis=0)\n",
    "        mad.to_csv(mad_file,sep='\\t',header=False)\n",
    "    #     print('Finished %s' % sample)\n",
    "        return mad\n",
    "#     except:\n",
    "#         print(f'Error on {sample}')\n",
    "#         return segnorm"
   ]
  },
  {
   "cell_type": "code",
   "execution_count": 22,
   "metadata": {
    "scrolled": true
   },
   "outputs": [
    {
     "name": "stdout",
     "output_type": "stream",
     "text": [
      "6\n"
     ]
    }
   ],
   "source": [
    "# Load Ginkgo results for a set of cells\n",
    "datadir='./*/status.xml'\n",
    "ginkgo_list = glob.glob(datadir)\n",
    "ginkgo_list = [i.split('/')[-2] for i in ginkgo_list]\n",
    "ginkgo_list = np.sort(ginkgo_list)\n",
    "print(len(ginkgo_list))"
   ]
  },
  {
   "cell_type": "code",
   "execution_count": 23,
   "metadata": {},
   "outputs": [
    {
     "data": {
      "text/plain": [
       "'Luo2017_human'"
      ]
     },
     "execution_count": 23,
     "metadata": {},
     "output_type": "execute_result"
    }
   ],
   "source": [
    "ginkgo_list[0]"
   ]
  },
  {
   "cell_type": "code",
   "execution_count": 24,
   "metadata": {},
   "outputs": [
    {
     "name": "stdout",
     "output_type": "stream",
     "text": [
      "Keeping 2833 bins\n"
     ]
    },
    {
     "data": {
      "text/plain": [
       "Pool_1000_AD008    0.127231\n",
       "Pool_1000_AD010    0.136222\n",
       "Pool_1001_AD008    0.121418\n",
       "Pool_1001_AD010    0.126582\n",
       "Pool_1002_AD008    0.129288\n",
       "                     ...   \n",
       "Pool_999_AD008     0.140190\n",
       "Pool_999_AD010     0.128512\n",
       "Pool_99_AD008      0.139017\n",
       "Pool_99_AD010      0.129551\n",
       "Pool_9_AD008       0.123475\n",
       "Length: 2888, dtype: float64"
      ]
     },
     "execution_count": 24,
     "metadata": {},
     "output_type": "execute_result"
    }
   ],
   "source": [
    "calc_mad(ginkgo_list[0])"
   ]
  },
  {
   "cell_type": "code",
   "execution_count": 4,
   "metadata": {
    "scrolled": false
   },
   "outputs": [
    {
     "name": "stderr",
     "output_type": "stream",
     "text": [
      "\r",
      "  0%|          | 0/6 [00:00<?, ?it/s]"
     ]
    },
    {
     "name": "stdout",
     "output_type": "stream",
     "text": [
      "Error on MB_EB\n",
      "Error on mCTN-1\n",
      "Error on MB_EA\n",
      "Error on MB_v1\n",
      "Error on Luo2017_human\n",
      "Error on mCTN-2\n"
     ]
    },
    {
     "name": "stderr",
     "output_type": "stream",
     "text": [
      "100%|██████████| 6/6 [00:03<00:00,  1.60it/s]\n"
     ]
    }
   ],
   "source": [
    "with Pool() as p:\n",
    "    x = list(tqdm(p.imap(calc_mad, ginkgo_list),total=len(ginkgo_list)))"
   ]
  },
  {
   "cell_type": "code",
   "execution_count": null,
   "metadata": {},
   "outputs": [],
   "source": []
  }
 ],
 "metadata": {
  "kernelspec": {
   "display_name": "Python 3",
   "language": "python",
   "name": "python3"
  },
  "language_info": {
   "codemirror_mode": {
    "name": "ipython",
    "version": 3
   },
   "file_extension": ".py",
   "mimetype": "text/x-python",
   "name": "python",
   "nbconvert_exporter": "python",
   "pygments_lexer": "ipython3",
   "version": "3.7.1"
  }
 },
 "nbformat": 4,
 "nbformat_minor": 4
}
